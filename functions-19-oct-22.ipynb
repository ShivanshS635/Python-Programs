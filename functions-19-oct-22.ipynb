{
 "cells": [
  {
   "cell_type": "code",
   "execution_count": 4,
   "id": "7835ec42",
   "metadata": {},
   "outputs": [
    {
     "name": "stdout",
     "output_type": "stream",
     "text": [
      "50\n",
      "150\n"
     ]
    }
   ],
   "source": [
    "#function definition\n",
    "def abc(a,b):\n",
    "    return a+b\n",
    "b=abc(20,30) #function calling\n",
    "print(b)\n",
    "print(b+100)"
   ]
  },
  {
   "cell_type": "code",
   "execution_count": 11,
   "id": "f0dc5e24",
   "metadata": {},
   "outputs": [],
   "source": [
    "#default arguments\n",
    "# assign values using =\n",
    "def abc(a,b,c=80):\n",
    "    return a+b+c\n",
    "b=abc(20,30) #function calling"
   ]
  },
  {
   "cell_type": "code",
   "execution_count": 13,
   "id": "e76bded3",
   "metadata": {},
   "outputs": [
    {
     "name": "stdout",
     "output_type": "stream",
     "text": [
      "150\n"
     ]
    }
   ],
   "source": [
    "#default arguments\n",
    "# assign values using =\n",
    "def abc(a,b,c=80):\n",
    "    return a+b+c\n",
    "b=abc(20,30,100) #function calling\n",
    "print(b)"
   ]
  },
  {
   "cell_type": "code",
   "execution_count": null,
   "id": "5e6ec6d8",
   "metadata": {},
   "outputs": [],
   "source": [
    "#keyword arguments\n",
    "def abc(a,b):\n",
    "    return a+b\n",
    "abc(20,b=30) #function calling\n",
    "print(b)"
   ]
  },
  {
   "cell_type": "code",
   "execution_count": 17,
   "id": "f70ea950",
   "metadata": {},
   "outputs": [
    {
     "name": "stdout",
     "output_type": "stream",
     "text": [
      "-10\n"
     ]
    }
   ],
   "source": [
    "#positional arguments\n",
    "def abc(a,b):\n",
    "    return a-b\n",
    "b=abc(b=30, a=20) #function calling\n",
    "print(b)"
   ]
  },
  {
   "cell_type": "code",
   "execution_count": 18,
   "id": "1ce714f7",
   "metadata": {},
   "outputs": [
    {
     "name": "stdout",
     "output_type": "stream",
     "text": [
      "300\n"
     ]
    }
   ],
   "source": [
    "#variable length\n",
    "#arbitary positional *args <-- hold values like list\n",
    "#arbitary keyword **args<-- hold values like dictionary\n",
    "def record(*marks):\n",
    "    a=0\n",
    "    for i in marks:\n",
    "        a=a+i\n",
    "    print(a)\n",
    "record(60,70,80,90)"
   ]
  },
  {
   "cell_type": "code",
   "execution_count": 20,
   "id": "564cac91",
   "metadata": {},
   "outputs": [
    {
     "name": "stdout",
     "output_type": "stream",
     "text": [
      "a 60\n",
      "b 70\n",
      "c 80\n",
      "d 90\n"
     ]
    }
   ],
   "source": [
    "def record(**marks):\n",
    "    for i in marks:#keys \n",
    "        subject=i\n",
    "        subject_marks=marks[i]\n",
    "        print(subject, subject_marks)  \n",
    "record(a=60,b=70,c=80,d=90)"
   ]
  },
  {
   "cell_type": "code",
   "execution_count": 10,
   "id": "6b20d22c",
   "metadata": {},
   "outputs": [
    {
     "name": "stdout",
     "output_type": "stream",
     "text": [
      "I am in  15\n",
      "I am out 15\n"
     ]
    }
   ],
   "source": [
    "#global variable and local variable\n",
    "x=3\n",
    "def abc():\n",
    "    global x\n",
    "    x=x+1\n",
    "    print(\"I am in \", x)\n",
    "x=14\n",
    "abc()\n",
    "print(\"I am out\", x)"
   ]
  },
  {
   "cell_type": "code",
   "execution_count": 13,
   "id": "13826541",
   "metadata": {},
   "outputs": [
    {
     "name": "stdout",
     "output_type": "stream",
     "text": [
      "7\n",
      "5040\n"
     ]
    }
   ],
   "source": [
    "#recursive funtions\n",
    "# repeating a funtion till base condition is meet\n",
    "# 3000 limit\n",
    "#how to define a recursive function\n",
    "#1. define base condition\n",
    "#2. define the function\n",
    "#3. making the function call inside the function\n",
    "#4. printing\n",
    "def fact(n):\n",
    "    if n==1:\n",
    "        return 1\n",
    "    else:\n",
    "        return n*fact(n-1)\n",
    "x=int(input())       \n",
    "print(fact(x))\n",
    "\n",
    "\n",
    "\n",
    "\n",
    "\n",
    "\n",
    "\n",
    "\n",
    "\n",
    "\n",
    "\n",
    "\n"
   ]
  }
 ],
 "metadata": {
  "kernelspec": {
   "display_name": "Python 3",
   "language": "python",
   "name": "python3"
  },
  "language_info": {
   "codemirror_mode": {
    "name": "ipython",
    "version": 3
   },
   "file_extension": ".py",
   "mimetype": "text/x-python",
   "name": "python",
   "nbconvert_exporter": "python",
   "pygments_lexer": "ipython3",
   "version": "3.8.8"
  }
 },
 "nbformat": 4,
 "nbformat_minor": 5
}
